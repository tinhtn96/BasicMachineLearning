{
 "cells": [
  {
   "cell_type": "code",
   "execution_count": 1,
   "metadata": {},
   "outputs": [],
   "source": [
    "from sklearn.datasets import make_moons\n",
    "import numpy as np\n",
    "import matplotlib.pyplot as plt\n",
    "import mglearn\n",
    "import warnings\n",
    "warnings.filterwarnings('ignore')"
   ]
  },
  {
   "cell_type": "code",
   "execution_count": 30,
   "metadata": {},
   "outputs": [],
   "source": [
    "# Example for Gradient Descent for 2 dimension\n",
    "def cost(x) -> (float):\n",
    "    return x**2 + 10*np.sin(x)\n",
    "\n",
    "def grad(x) -> (float):\n",
    "    return 2*x + 10*np.cos(x)\n",
    "\n",
    "def gradientDesent(x0:'init value', eta:'learning rate', gamma = .6):\n",
    "    x = [x0]\n",
    "    v_old = 0\n",
    "    itr = 0\n",
    "    while True:\n",
    "        if itr > 2000:\n",
    "            print('Over !!!!')\n",
    "            break;\n",
    "        v_new = gamma*v_old + eta*grad(x[-1])\n",
    "        x_new = x[-1] - v_new\n",
    "        if np.linalg.norm(grad(x_new)) < 1e-3:\n",
    "            break\n",
    "        x.append(x_new)\n",
    "        v_old = v_new\n",
    "        itr += 1\n",
    "    return x, itr"
   ]
  },
  {
   "cell_type": "code",
   "execution_count": 31,
   "metadata": {},
   "outputs": [
    {
     "name": "stdout",
     "output_type": "stream",
     "text": [
      "Min value: -1.3027820245112023, cost: -7.94574543612082, after 29 iterations\n"
     ]
    }
   ],
   "source": [
    "result, itr = gradientDesent(9, .1)\n",
    "print('Min value: {}, cost: {}, after {} iterations'.format(result[-1], cost(result[-1]), itr))"
   ]
  },
  {
   "cell_type": "code",
   "execution_count": 32,
   "metadata": {},
   "outputs": [
    {
     "data": {
      "image/png": "[encoded data removed]",
      "text/plain": [
       "<Figure size 432x288 with 1 Axes>"
      ]
     },
     "metadata": {
      "needs_background": "light"
     },
     "output_type": "display_data"
    }
   ],
   "source": [
    "x = np.arange(-10, 10, 0.1)\n",
    "y = cost(x)\n",
    "plt.plot(x, y)\n",
    "plt.xlabel('x')\n",
    "plt.ylabel('y')\n",
    "for i in result:\n",
    "    plt.plot(i, cost(i), 'o', color = 'red')"
   ]
  },
  {
   "cell_type": "code",
   "execution_count": null,
   "metadata": {},
   "outputs": [],
   "source": []
  },
  {
   "cell_type": "code",
   "execution_count": null,
   "metadata": {},
   "outputs": [],
   "source": []
  },
  {
   "cell_type": "code",
   "execution_count": null,
   "metadata": {},
   "outputs": [],
   "source": []
  },
  {
   "cell_type": "code",
   "execution_count": null,
   "metadata": {},
   "outputs": [],
   "source": []
  },
  {
   "cell_type": "code",
   "execution_count": null,
   "metadata": {},
   "outputs": [],
   "source": []
  }
 ],
 "metadata": {
  "kernelspec": {
   "display_name": "Python 3",
   "language": "python",
   "name": "python3"
  },
  "language_info": {
   "codemirror_mode": {
    "name": "ipython",
    "version": 3
   },
   "file_extension": ".py",
   "mimetype": "text/x-python",
   "name": "python",
   "nbconvert_exporter": "python",
   "pygments_lexer": "ipython3",
   "version": "3.7.3"
  }
 },
 "nbformat": 4,
 "nbformat_minor": 2
}
